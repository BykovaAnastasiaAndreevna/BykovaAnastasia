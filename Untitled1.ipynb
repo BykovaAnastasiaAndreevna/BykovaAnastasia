{
  "metadata": {
    "language_info": {
      "codemirror_mode": {
        "name": "python",
        "version": 3
      },
      "file_extension": ".py",
      "mimetype": "text/x-python",
      "name": "python",
      "nbconvert_exporter": "python",
      "pygments_lexer": "ipython3",
      "version": "3.8"
    },
    "kernelspec": {
      "name": "python",
      "display_name": "Python (Pyodide)",
      "language": "python"
    }
  },
  "nbformat_minor": 4,
  "nbformat": 4,
  "cells": [
    {
      "cell_type": "code",
      "source": "\nimport discretisedfield as df\nimport micromagneticmodel as mm\n\np11 = (0, 0, 0)\np12 = (30e-9, 20e-9, 20e-9)\nregion1 = df.Region(p1=p11, p2=p12)\n\np21 = (0, 0, 20e-9)\np22 = (30e-9, 20e-9, 40e-9)\nregion2 = df.Region(p1=p21, p2=p22)",
      "metadata": {},
      "execution_count": null,
      "outputs": []
    },
    {
      "cell_type": "code",
      "source": "",
      "metadata": {},
      "execution_count": null,
      "outputs": []
    }
  ]
}